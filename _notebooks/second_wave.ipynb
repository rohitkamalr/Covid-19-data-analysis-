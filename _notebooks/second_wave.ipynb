{
 "cells": [
  {
   "cell_type": "markdown",
   "id": "120ef2b6",
   "metadata": {
    "papermill": {
     "duration": 0.023007,
     "end_time": "2021-07-12T12:23:01.418142",
     "exception": false,
     "start_time": "2021-07-12T12:23:01.395135",
     "status": "completed"
    },
    "tags": []
   },
   "source": [
    "# Latest COVID-19 India Matplotlib Overview "
   ]
  },
  {
   "cell_type": "markdown",
   "id": "5832d6b9",
   "metadata": {
    "papermill": {
     "duration": 0.018863,
     "end_time": "2021-07-12T12:23:01.456170",
     "exception": false,
     "start_time": "2021-07-12T12:23:01.437307",
     "status": "completed"
    },
    "tags": []
   },
   "source": [
    "## Covid cases from 5th May 2021"
   ]
  },
  {
   "cell_type": "code",
   "execution_count": 1,
   "id": "fc8656b1",
   "metadata": {
    "execution": {
     "iopub.execute_input": "2021-07-12T12:23:01.507611Z",
     "iopub.status.busy": "2021-07-12T12:23:01.506834Z",
     "iopub.status.idle": "2021-07-12T12:23:02.455387Z",
     "shell.execute_reply": "2021-07-12T12:23:02.454853Z"
    },
    "papermill": {
     "duration": 0.981122,
     "end_time": "2021-07-12T12:23:02.455539",
     "exception": false,
     "start_time": "2021-07-12T12:23:01.474417",
     "status": "completed"
    },
    "tags": []
   },
   "outputs": [],
   "source": [
    "#hide\n",
    "import pandas as pd\n",
    "import numpy as np\n",
    "import requests\n",
    "import json\n",
    "import matplotlib.pyplot as plt\n",
    "import matplotlib.dates as mdates\n",
    "import matplotlib as mpl\n",
    "from IPython.core.display import display,HTML\n",
    "%matplotlib inline\n",
    "from datetime import date"
   ]
  },
  {
   "cell_type": "code",
   "execution_count": 2,
   "id": "462b0b66",
   "metadata": {
    "execution": {
     "iopub.execute_input": "2021-07-12T12:23:02.501559Z",
     "iopub.status.busy": "2021-07-12T12:23:02.500791Z",
     "iopub.status.idle": "2021-07-12T12:23:02.850503Z",
     "shell.execute_reply": "2021-07-12T12:23:02.849849Z"
    },
    "papermill": {
     "duration": 0.376358,
     "end_time": "2021-07-12T12:23:02.850629",
     "exception": false,
     "start_time": "2021-07-12T12:23:02.474271",
     "status": "completed"
    },
    "tags": []
   },
   "outputs": [],
   "source": [
    "#hide\n",
    "df  = pd.read_csv('https://api.covid19india.org/csv/latest/states.csv')\n",
    "df = df[['Date','State','Confirmed','Deceased']]\n",
    "df = df.rename(columns={'Confirmed':'Cases', \"Deceased\":'Deaths'})\n",
    "df_cases = df[[\"Date\",'State','Cases']]\n",
    "df_deaths = df[['Date','State','Deaths']]\n",
    "df_cases1 = df_cases.groupby('Date')\n",
    "df_deaths1= df_deaths.groupby('Date')"
   ]
  },
  {
   "cell_type": "code",
   "execution_count": 3,
   "id": "15529842",
   "metadata": {
    "execution": {
     "iopub.execute_input": "2021-07-12T12:23:02.896684Z",
     "iopub.status.busy": "2021-07-12T12:23:02.895286Z",
     "iopub.status.idle": "2021-07-12T12:23:02.915205Z",
     "shell.execute_reply": "2021-07-12T12:23:02.915671Z"
    },
    "papermill": {
     "duration": 0.044478,
     "end_time": "2021-07-12T12:23:02.915799",
     "exception": false,
     "start_time": "2021-07-12T12:23:02.871321",
     "status": "completed"
    },
    "tags": []
   },
   "outputs": [],
   "source": [
    "#hide\n",
    "df_snap = pd.read_csv('data/SnapshotCases-28-July.csv')\n",
    "arr_states = df_snap['states'].unique()\n",
    "arr_dates = df['Date'].unique()\n",
    "df_snap = df_snap.set_index('states')"
   ]
  },
  {
   "cell_type": "code",
   "execution_count": 4,
   "id": "9f39bd35",
   "metadata": {
    "execution": {
     "iopub.execute_input": "2021-07-12T12:23:02.961314Z",
     "iopub.status.busy": "2021-07-12T12:23:02.960702Z",
     "iopub.status.idle": "2021-07-12T12:23:02.963404Z",
     "shell.execute_reply": "2021-07-12T12:23:02.963896Z"
    },
    "papermill": {
     "duration": 0.029414,
     "end_time": "2021-07-12T12:23:02.964019",
     "exception": false,
     "start_time": "2021-07-12T12:23:02.934605",
     "status": "completed"
    },
    "tags": []
   },
   "outputs": [
    {
     "data": {
      "text/plain": [
       "array(['Andaman and Nicobar Islands', 'Andhra Pradesh',\n",
       "       'Arunachal Pradesh', 'Assam', 'Bihar', 'Chandigarh',\n",
       "       'Dadra and Nagar Haveli and Daman and Diu', 'Delhi', 'Goa',\n",
       "       'Gujarat', 'Haryana', 'Himachal Pradesh', 'Jammu and Kashmir',\n",
       "       'Jharkhand', 'Karnataka', 'Kerala', 'Lakshadweep',\n",
       "       'Madhya Pradesh', 'Maharashtra', 'Manipur', 'Meghalaya', 'Mizoram',\n",
       "       'Nagaland', 'Odisha', 'Puducherry', 'Punjab', 'Rajasthan',\n",
       "       'Sikkim', 'Tamil Nadu', 'Telangana', 'Tripura', 'Uttar Pradesh',\n",
       "       'West Bengal', 'Chhattisgarh', 'Ladakh', 'Uttarakhand'],\n",
       "      dtype=object)"
      ]
     },
     "execution_count": 4,
     "metadata": {},
     "output_type": "execute_result"
    }
   ],
   "source": [
    "#hide\n",
    "arr_states[-9] = 'Puducherry'\n",
    "arr_states[-10] = 'Odisha'\n",
    "arr_states[6] = 'Dadra and Nagar Haveli and Daman and Diu'\n",
    "arr_states = np.append(arr_states,np.array(['Chhattisgarh','Ladakh','Uttarakhand']))\n",
    "arr_states"
   ]
  },
  {
   "cell_type": "code",
   "execution_count": 5,
   "id": "50a446ef",
   "metadata": {
    "execution": {
     "iopub.execute_input": "2021-07-12T12:23:03.013429Z",
     "iopub.status.busy": "2021-07-12T12:23:03.012726Z",
     "iopub.status.idle": "2021-07-12T12:23:03.020842Z",
     "shell.execute_reply": "2021-07-12T12:23:03.021387Z"
    },
    "papermill": {
     "duration": 0.037224,
     "end_time": "2021-07-12T12:23:03.021506",
     "exception": false,
     "start_time": "2021-07-12T12:23:02.984282",
     "status": "completed"
    },
    "tags": []
   },
   "outputs": [],
   "source": [
    "#hide\n",
    "dates = []\n",
    "for i in arr_dates:\n",
    "    if i>='2021-05-10':\n",
    "        dates.append(i)\n",
    "dict = {'states':dates}\n",
    "for i in arr_states:\n",
    "    dict[i] = [0]*len(dates)\n",
    "dft_cases = pd.DataFrame(dict)\n",
    "dft_deaths = pd.DataFrame(dict)\n"
   ]
  },
  {
   "cell_type": "code",
   "execution_count": 6,
   "id": "8c29d4e8",
   "metadata": {
    "execution": {
     "iopub.execute_input": "2021-07-12T12:23:03.065371Z",
     "iopub.status.busy": "2021-07-12T12:23:03.064675Z",
     "iopub.status.idle": "2021-07-12T12:23:04.246939Z",
     "shell.execute_reply": "2021-07-12T12:23:04.246188Z"
    },
    "papermill": {
     "duration": 1.206737,
     "end_time": "2021-07-12T12:23:04.247133",
     "exception": false,
     "start_time": "2021-07-12T12:23:03.040396",
     "status": "completed"
    },
    "tags": []
   },
   "outputs": [],
   "source": [
    "#hide\n",
    "for i in range(len(dates)):\n",
    "    df1_deaths = df_deaths1.get_group(dates[i])\n",
    "    for j in range(len(df1_deaths.index)):\n",
    "        if df1_deaths.iloc[j,1] in arr_states:\n",
    "            dft_deaths.loc[i,df1_deaths.iloc[j,1]] = df1_deaths.iloc[j,2]\n",
    "dft_deaths = dft_deaths.set_index('states')"
   ]
  },
  {
   "cell_type": "code",
   "execution_count": 7,
   "id": "6cb2c596",
   "metadata": {
    "execution": {
     "iopub.execute_input": "2021-07-12T12:23:04.296913Z",
     "iopub.status.busy": "2021-07-12T12:23:04.296313Z",
     "iopub.status.idle": "2021-07-12T12:23:05.601962Z",
     "shell.execute_reply": "2021-07-12T12:23:05.601455Z"
    },
    "papermill": {
     "duration": 1.335075,
     "end_time": "2021-07-12T12:23:05.602111",
     "exception": false,
     "start_time": "2021-07-12T12:23:04.267036",
     "status": "completed"
    },
    "tags": []
   },
   "outputs": [],
   "source": [
    "#hide\n",
    "for i in range(len(dates)):\n",
    "    df1_cases = df_cases1.get_group(dates[i])\n",
    "    for j in range(len(df1_cases.index)):\n",
    "        if df1_cases.iloc[j,1] in arr_states:\n",
    "            dft_cases.loc[i,df1_cases.iloc[j,1]] = df1_cases.iloc[j,2]\n",
    "dft_cases = dft_cases.set_index('states')"
   ]
  },
  {
   "cell_type": "code",
   "execution_count": 8,
   "id": "e4d9b682",
   "metadata": {
    "execution": {
     "iopub.execute_input": "2021-07-12T12:23:05.646951Z",
     "iopub.status.busy": "2021-07-12T12:23:05.646235Z",
     "iopub.status.idle": "2021-07-12T12:23:05.649106Z",
     "shell.execute_reply": "2021-07-12T12:23:05.649588Z"
    },
    "papermill": {
     "duration": 0.027727,
     "end_time": "2021-07-12T12:23:05.649710",
     "exception": false,
     "start_time": "2021-07-12T12:23:05.621983",
     "status": "completed"
    },
    "tags": []
   },
   "outputs": [],
   "source": [
    "#hide\n",
    "dft_cases = dft_cases.T\n",
    "dft_deaths = dft_deaths.T\n",
    "dt_today = dates[-1]\n",
    "dt_yday = dates[-2]"
   ]
  },
  {
   "cell_type": "code",
   "execution_count": 9,
   "id": "928101a6",
   "metadata": {
    "execution": {
     "iopub.execute_input": "2021-07-12T12:23:05.698073Z",
     "iopub.status.busy": "2021-07-12T12:23:05.697268Z",
     "iopub.status.idle": "2021-07-12T12:23:05.700843Z",
     "shell.execute_reply": "2021-07-12T12:23:05.700066Z"
    },
    "papermill": {
     "duration": 0.031043,
     "end_time": "2021-07-12T12:23:05.701013",
     "exception": false,
     "start_time": "2021-07-12T12:23:05.669970",
     "status": "completed"
    },
    "tags": []
   },
   "outputs": [],
   "source": [
    "#hide\n",
    "dft_cases = dft_cases.reset_index()\n",
    "dft_deaths = dft_deaths.reset_index()\n",
    "dft_cases = dft_cases.rename(columns = {'index':'state'})\n",
    "dft_deaths = dft_deaths.rename(columns = {'index':'state'})"
   ]
  },
  {
   "cell_type": "code",
   "execution_count": 10,
   "id": "1661eac0",
   "metadata": {
    "execution": {
     "iopub.execute_input": "2021-07-12T12:23:05.752431Z",
     "iopub.status.busy": "2021-07-12T12:23:05.751688Z",
     "iopub.status.idle": "2021-07-12T12:23:05.753993Z",
     "shell.execute_reply": "2021-07-12T12:23:05.754586Z"
    },
    "papermill": {
     "duration": 0.034557,
     "end_time": "2021-07-12T12:23:05.754721",
     "exception": false,
     "start_time": "2021-07-12T12:23:05.720164",
     "status": "completed"
    },
    "tags": []
   },
   "outputs": [],
   "source": [
    "#hide\n",
    "dfc_cases = dft_cases.groupby('state')[dt_today].sum()\n",
    "dfc_deaths = dft_deaths.groupby('state')[dt_today].sum()\n",
    "dfp_cases = dft_cases.groupby('state')[dt_yday].sum()\n",
    "dfp_deaths = dft_deaths.groupby('state')[dt_yday].sum()"
   ]
  },
  {
   "cell_type": "code",
   "execution_count": 11,
   "id": "1b391058",
   "metadata": {
    "execution": {
     "iopub.execute_input": "2021-07-12T12:23:05.810725Z",
     "iopub.status.busy": "2021-07-12T12:23:05.809957Z",
     "iopub.status.idle": "2021-07-12T12:23:05.818151Z",
     "shell.execute_reply": "2021-07-12T12:23:05.817592Z"
    },
    "papermill": {
     "duration": 0.044221,
     "end_time": "2021-07-12T12:23:05.818265",
     "exception": false,
     "start_time": "2021-07-12T12:23:05.774044",
     "status": "completed"
    },
    "tags": []
   },
   "outputs": [
    {
     "data": {
      "text/html": [
       "<div>\n",
       "<style scoped>\n",
       "    .dataframe tbody tr th:only-of-type {\n",
       "        vertical-align: middle;\n",
       "    }\n",
       "\n",
       "    .dataframe tbody tr th {\n",
       "        vertical-align: top;\n",
       "    }\n",
       "\n",
       "    .dataframe thead th {\n",
       "        text-align: right;\n",
       "    }\n",
       "</style>\n",
       "<table border=\"1\" class=\"dataframe\">\n",
       "  <thead>\n",
       "    <tr style=\"text-align: right;\">\n",
       "      <th></th>\n",
       "      <th>states</th>\n",
       "      <th>Cases</th>\n",
       "      <th>Deaths</th>\n",
       "      <th>PCases</th>\n",
       "      <th>PDeaths</th>\n",
       "    </tr>\n",
       "  </thead>\n",
       "  <tbody>\n",
       "    <tr>\n",
       "      <th>0</th>\n",
       "      <td>Maharashtra</td>\n",
       "      <td>6157799</td>\n",
       "      <td>125878</td>\n",
       "      <td>6157799</td>\n",
       "      <td>125878</td>\n",
       "    </tr>\n",
       "    <tr>\n",
       "      <th>1</th>\n",
       "      <td>Kerala</td>\n",
       "      <td>3065336</td>\n",
       "      <td>14586</td>\n",
       "      <td>3065336</td>\n",
       "      <td>14586</td>\n",
       "    </tr>\n",
       "    <tr>\n",
       "      <th>2</th>\n",
       "      <td>Karnataka</td>\n",
       "      <td>2871298</td>\n",
       "      <td>35835</td>\n",
       "      <td>2871298</td>\n",
       "      <td>35835</td>\n",
       "    </tr>\n",
       "    <tr>\n",
       "      <th>3</th>\n",
       "      <td>Tamil Nadu</td>\n",
       "      <td>2518786</td>\n",
       "      <td>33418</td>\n",
       "      <td>2518786</td>\n",
       "      <td>33418</td>\n",
       "    </tr>\n",
       "    <tr>\n",
       "      <th>4</th>\n",
       "      <td>Andhra Pradesh</td>\n",
       "      <td>1924421</td>\n",
       "      <td>13024</td>\n",
       "      <td>1922843</td>\n",
       "      <td>13002</td>\n",
       "    </tr>\n",
       "  </tbody>\n",
       "</table>\n",
       "</div>"
      ],
      "text/plain": [
       "           states    Cases  Deaths   PCases  PDeaths\n",
       "0     Maharashtra  6157799  125878  6157799   125878\n",
       "1          Kerala  3065336   14586  3065336    14586\n",
       "2       Karnataka  2871298   35835  2871298    35835\n",
       "3      Tamil Nadu  2518786   33418  2518786    33418\n",
       "4  Andhra Pradesh  1924421   13024  1922843    13002"
      ]
     },
     "execution_count": 11,
     "metadata": {},
     "output_type": "execute_result"
    }
   ],
   "source": [
    "#hide\n",
    "df_table = pd.DataFrame({'states': dfc_cases.index, 'Cases': dfc_cases.values, 'Deaths': dfc_deaths.values, 'PCases': dfp_cases.values, 'PDeaths': dfp_deaths.values}).set_index('states')\n",
    "df_table = df_table.sort_values(by = ['Cases','Deaths'], ascending = [False, False])\n",
    "df_table = df_table.reset_index()\n",
    "df_table.head()"
   ]
  },
  {
   "cell_type": "code",
   "execution_count": 12,
   "id": "b1966c49",
   "metadata": {
    "execution": {
     "iopub.execute_input": "2021-07-12T12:23:05.861500Z",
     "iopub.status.busy": "2021-07-12T12:23:05.860948Z",
     "iopub.status.idle": "2021-07-12T12:23:05.870423Z",
     "shell.execute_reply": "2021-07-12T12:23:05.869977Z"
    },
    "papermill": {
     "duration": 0.033213,
     "end_time": "2021-07-12T12:23:05.870585",
     "exception": false,
     "start_time": "2021-07-12T12:23:05.837372",
     "status": "completed"
    },
    "tags": []
   },
   "outputs": [],
   "source": [
    "#hide\n",
    "for c in 'Cases, Deaths'.split(', '):\n",
    "    df_table[f'{c} (+)'] = (df_table[c] - df_table[f'P{c}']).clip(0)\n",
    "df_table['Fatality Rate'] = (100* df_table['Deaths']/ df_table['Cases']).round(2)"
   ]
  },
  {
   "cell_type": "code",
   "execution_count": 13,
   "id": "68015e31",
   "metadata": {
    "execution": {
     "iopub.execute_input": "2021-07-12T12:23:05.921505Z",
     "iopub.status.busy": "2021-07-12T12:23:05.920844Z",
     "iopub.status.idle": "2021-07-12T12:23:05.924550Z",
     "shell.execute_reply": "2021-07-12T12:23:05.924084Z"
    },
    "papermill": {
     "duration": 0.035271,
     "end_time": "2021-07-12T12:23:05.924661",
     "exception": false,
     "start_time": "2021-07-12T12:23:05.889390",
     "status": "completed"
    },
    "tags": []
   },
   "outputs": [
    {
     "data": {
      "text/html": [
       "<div>\n",
       "<style scoped>\n",
       "    .dataframe tbody tr th:only-of-type {\n",
       "        vertical-align: middle;\n",
       "    }\n",
       "\n",
       "    .dataframe tbody tr th {\n",
       "        vertical-align: top;\n",
       "    }\n",
       "\n",
       "    .dataframe thead th {\n",
       "        text-align: right;\n",
       "    }\n",
       "</style>\n",
       "<table border=\"1\" class=\"dataframe\">\n",
       "  <thead>\n",
       "    <tr style=\"text-align: right;\">\n",
       "      <th></th>\n",
       "      <th>states</th>\n",
       "      <th>Cases</th>\n",
       "      <th>Deaths</th>\n",
       "      <th>PCases</th>\n",
       "      <th>PDeaths</th>\n",
       "      <th>Cases (+)</th>\n",
       "      <th>Deaths (+)</th>\n",
       "      <th>Fatality Rate</th>\n",
       "    </tr>\n",
       "  </thead>\n",
       "  <tbody>\n",
       "    <tr>\n",
       "      <th>0</th>\n",
       "      <td>Maharashtra</td>\n",
       "      <td>6157799</td>\n",
       "      <td>125878</td>\n",
       "      <td>6157799</td>\n",
       "      <td>125878</td>\n",
       "      <td>0</td>\n",
       "      <td>0</td>\n",
       "      <td>2.04</td>\n",
       "    </tr>\n",
       "    <tr>\n",
       "      <th>1</th>\n",
       "      <td>Kerala</td>\n",
       "      <td>3065336</td>\n",
       "      <td>14586</td>\n",
       "      <td>3065336</td>\n",
       "      <td>14586</td>\n",
       "      <td>0</td>\n",
       "      <td>0</td>\n",
       "      <td>0.48</td>\n",
       "    </tr>\n",
       "    <tr>\n",
       "      <th>2</th>\n",
       "      <td>Karnataka</td>\n",
       "      <td>2871298</td>\n",
       "      <td>35835</td>\n",
       "      <td>2871298</td>\n",
       "      <td>35835</td>\n",
       "      <td>0</td>\n",
       "      <td>0</td>\n",
       "      <td>1.25</td>\n",
       "    </tr>\n",
       "    <tr>\n",
       "      <th>3</th>\n",
       "      <td>Tamil Nadu</td>\n",
       "      <td>2518786</td>\n",
       "      <td>33418</td>\n",
       "      <td>2518786</td>\n",
       "      <td>33418</td>\n",
       "      <td>0</td>\n",
       "      <td>0</td>\n",
       "      <td>1.33</td>\n",
       "    </tr>\n",
       "    <tr>\n",
       "      <th>4</th>\n",
       "      <td>Andhra Pradesh</td>\n",
       "      <td>1924421</td>\n",
       "      <td>13024</td>\n",
       "      <td>1922843</td>\n",
       "      <td>13002</td>\n",
       "      <td>1578</td>\n",
       "      <td>22</td>\n",
       "      <td>0.68</td>\n",
       "    </tr>\n",
       "  </tbody>\n",
       "</table>\n",
       "</div>"
      ],
      "text/plain": [
       "           states    Cases  Deaths   PCases  PDeaths  Cases (+)  Deaths (+)  \\\n",
       "0     Maharashtra  6157799  125878  6157799   125878          0           0   \n",
       "1          Kerala  3065336   14586  3065336    14586          0           0   \n",
       "2       Karnataka  2871298   35835  2871298    35835          0           0   \n",
       "3      Tamil Nadu  2518786   33418  2518786    33418          0           0   \n",
       "4  Andhra Pradesh  1924421   13024  1922843    13002       1578          22   \n",
       "\n",
       "   Fatality Rate  \n",
       "0           2.04  \n",
       "1           0.48  \n",
       "2           1.25  \n",
       "3           1.33  \n",
       "4           0.68  "
      ]
     },
     "execution_count": 13,
     "metadata": {},
     "output_type": "execute_result"
    }
   ],
   "source": [
    "#hide\n",
    "df_table.head()"
   ]
  },
  {
   "cell_type": "code",
   "execution_count": 14,
   "id": "feedaeb0",
   "metadata": {
    "execution": {
     "iopub.execute_input": "2021-07-12T12:23:05.974215Z",
     "iopub.status.busy": "2021-07-12T12:23:05.973656Z",
     "iopub.status.idle": "2021-07-12T12:23:05.991625Z",
     "shell.execute_reply": "2021-07-12T12:23:05.992155Z"
    },
    "papermill": {
     "duration": 0.043743,
     "end_time": "2021-07-12T12:23:05.992272",
     "exception": false,
     "start_time": "2021-07-12T12:23:05.948529",
     "status": "completed"
    },
    "tags": []
   },
   "outputs": [
    {
     "data": {
      "text/plain": [
       "{'updated': '2021-07-12',\n",
       " 'since': '2021-07-11',\n",
       " 'Cases': 30878391,\n",
       " 'PCases': 30873916,\n",
       " 'Deaths': 408892,\n",
       " 'PDeaths': 408792,\n",
       " 'Cases (+)': 4475,\n",
       " 'Deaths (+)': 100}"
      ]
     },
     "execution_count": 14,
     "metadata": {},
     "output_type": "execute_result"
    }
   ],
   "source": [
    "#hide\n",
    "summary = {'updated':dates[-1], 'since':dates[-2]}\n",
    "list_names = ['Cases', 'PCases', 'Deaths', 'PDeaths', 'Cases (+)', 'Deaths (+)']\n",
    "for name in list_names:\n",
    "    summary[name] = df_table.sum()[name]\n",
    "summary"
   ]
  },
  {
   "cell_type": "code",
   "execution_count": 15,
   "id": "9c97da16",
   "metadata": {
    "execution": {
     "iopub.execute_input": "2021-07-12T12:23:06.040077Z",
     "iopub.status.busy": "2021-07-12T12:23:06.038763Z",
     "iopub.status.idle": "2021-07-12T12:23:06.041032Z",
     "shell.execute_reply": "2021-07-12T12:23:06.041524Z"
    },
    "papermill": {
     "duration": 0.029309,
     "end_time": "2021-07-12T12:23:06.041640",
     "exception": false,
     "start_time": "2021-07-12T12:23:06.012331",
     "status": "completed"
    },
    "tags": []
   },
   "outputs": [],
   "source": [
    "#hide\n",
    "overview = '''\n",
    "<!-- #######  HTML!! #########-->\n",
    "<h1 style=\"color: #5e9ca0; text-align: center;\">India</h1>\n",
    "<p style=\"text-align: center;\">Last update: <strong>{update}</strong></p>\n",
    "<p style=\"text-align: center;\">Confirmed cases:</p>\n",
    "<p style=\"text-align: center;font-size:24px;\">{cases} (<span style=\"color: #ff0000;\">+{new}</span>)</p>\n",
    "<p style=\"text-align: center;\">Confirmed deaths:</p>\n",
    "<p style=\"text-align: center;font-size:24px;\">{deaths} (<span style=\"color: #ff0000;\">+{dnew}</span>)</p>\n",
    "'''"
   ]
  },
  {
   "cell_type": "code",
   "execution_count": 16,
   "id": "b9416c07",
   "metadata": {
    "execution": {
     "iopub.execute_input": "2021-07-12T12:23:06.090284Z",
     "iopub.status.busy": "2021-07-12T12:23:06.089209Z",
     "iopub.status.idle": "2021-07-12T12:23:06.093842Z",
     "shell.execute_reply": "2021-07-12T12:23:06.094302Z"
    },
    "papermill": {
     "duration": 0.030573,
     "end_time": "2021-07-12T12:23:06.094432",
     "exception": false,
     "start_time": "2021-07-12T12:23:06.063859",
     "status": "completed"
    },
    "tags": []
   },
   "outputs": [
    {
     "data": {
      "text/html": [
       "\n",
       "<!-- #######  HTML!! #########-->\n",
       "<h1 style=\"color: #5e9ca0; text-align: center;\">India</h1>\n",
       "<p style=\"text-align: center;\">Last update: <strong>2021-07-12</strong></p>\n",
       "<p style=\"text-align: center;\">Confirmed cases:</p>\n",
       "<p style=\"text-align: center;font-size:24px;\">30878391 (<span style=\"color: #ff0000;\">+4475</span>)</p>\n",
       "<p style=\"text-align: center;\">Confirmed deaths:</p>\n",
       "<p style=\"text-align: center;font-size:24px;\">408892 (<span style=\"color: #ff0000;\">+100</span>)</p>\n"
      ],
      "text/plain": [
       "<IPython.core.display.HTML object>"
      ]
     },
     "metadata": {},
     "output_type": "display_data"
    }
   ],
   "source": [
    "#hide_input\n",
    "update = summary['updated']\n",
    "cases = summary['Cases']\n",
    "new = summary['Cases (+)']\n",
    "deaths = summary['Deaths']\n",
    "dnew = summary['Deaths (+)']\n",
    "\n",
    "html = HTML(overview.format(update=update, cases=cases,new=new,deaths=deaths,dnew=dnew))\n",
    "\n",
    "display(html)"
   ]
  },
  {
   "cell_type": "code",
   "execution_count": 17,
   "id": "cb7a9c1f",
   "metadata": {
    "execution": {
     "iopub.execute_input": "2021-07-12T12:23:06.143191Z",
     "iopub.status.busy": "2021-07-12T12:23:06.142559Z",
     "iopub.status.idle": "2021-07-12T12:23:06.148791Z",
     "shell.execute_reply": "2021-07-12T12:23:06.148297Z"
    },
    "papermill": {
     "duration": 0.034251,
     "end_time": "2021-07-12T12:23:06.148894",
     "exception": false,
     "start_time": "2021-07-12T12:23:06.114643",
     "status": "completed"
    },
    "tags": []
   },
   "outputs": [],
   "source": [
    "#hide\n",
    "dt_cols = list(dft_cases.columns[1:])\n",
    "dft_ct_new_cases = dft_cases.groupby('state')[dt_cols].sum().diff(axis=1).fillna(0).astype(int)\n",
    "dft_ct_new_cases.sort_values(by = dates[-1], ascending = False,inplace = True)"
   ]
  },
  {
   "cell_type": "code",
   "execution_count": 18,
   "id": "5f3637ad",
   "metadata": {
    "execution": {
     "iopub.execute_input": "2021-07-12T12:23:06.208993Z",
     "iopub.status.busy": "2021-07-12T12:23:06.208306Z",
     "iopub.status.idle": "2021-07-12T12:23:06.211482Z",
     "shell.execute_reply": "2021-07-12T12:23:06.211965Z"
    },
    "papermill": {
     "duration": 0.043676,
     "end_time": "2021-07-12T12:23:06.212087",
     "exception": false,
     "start_time": "2021-07-12T12:23:06.168411",
     "status": "completed"
    },
    "tags": []
   },
   "outputs": [
    {
     "data": {
      "text/html": [
       "<div>\n",
       "<style scoped>\n",
       "    .dataframe tbody tr th:only-of-type {\n",
       "        vertical-align: middle;\n",
       "    }\n",
       "\n",
       "    .dataframe tbody tr th {\n",
       "        vertical-align: top;\n",
       "    }\n",
       "\n",
       "    .dataframe thead th {\n",
       "        text-align: right;\n",
       "    }\n",
       "</style>\n",
       "<table border=\"1\" class=\"dataframe\">\n",
       "  <thead>\n",
       "    <tr style=\"text-align: right;\">\n",
       "      <th>states</th>\n",
       "      <th>2021-05-10</th>\n",
       "      <th>2021-05-11</th>\n",
       "      <th>2021-05-12</th>\n",
       "      <th>2021-05-13</th>\n",
       "      <th>2021-05-14</th>\n",
       "      <th>2021-05-15</th>\n",
       "      <th>2021-05-16</th>\n",
       "      <th>2021-05-17</th>\n",
       "      <th>2021-05-18</th>\n",
       "      <th>2021-05-19</th>\n",
       "      <th>...</th>\n",
       "      <th>2021-07-03</th>\n",
       "      <th>2021-07-04</th>\n",
       "      <th>2021-07-05</th>\n",
       "      <th>2021-07-06</th>\n",
       "      <th>2021-07-07</th>\n",
       "      <th>2021-07-08</th>\n",
       "      <th>2021-07-09</th>\n",
       "      <th>2021-07-10</th>\n",
       "      <th>2021-07-11</th>\n",
       "      <th>2021-07-12</th>\n",
       "    </tr>\n",
       "    <tr>\n",
       "      <th>state</th>\n",
       "      <th></th>\n",
       "      <th></th>\n",
       "      <th></th>\n",
       "      <th></th>\n",
       "      <th></th>\n",
       "      <th></th>\n",
       "      <th></th>\n",
       "      <th></th>\n",
       "      <th></th>\n",
       "      <th></th>\n",
       "      <th></th>\n",
       "      <th></th>\n",
       "      <th></th>\n",
       "      <th></th>\n",
       "      <th></th>\n",
       "      <th></th>\n",
       "      <th></th>\n",
       "      <th></th>\n",
       "      <th></th>\n",
       "      <th></th>\n",
       "      <th></th>\n",
       "    </tr>\n",
       "  </thead>\n",
       "  <tbody>\n",
       "    <tr>\n",
       "      <th>Odisha</th>\n",
       "      <td>0</td>\n",
       "      <td>9793</td>\n",
       "      <td>10982</td>\n",
       "      <td>10649</td>\n",
       "      <td>12390</td>\n",
       "      <td>11805</td>\n",
       "      <td>11732</td>\n",
       "      <td>10757</td>\n",
       "      <td>10321</td>\n",
       "      <td>11099</td>\n",
       "      <td>...</td>\n",
       "      <td>2917</td>\n",
       "      <td>2870</td>\n",
       "      <td>2803</td>\n",
       "      <td>2487</td>\n",
       "      <td>2602</td>\n",
       "      <td>2542</td>\n",
       "      <td>2806</td>\n",
       "      <td>2334</td>\n",
       "      <td>2282</td>\n",
       "      <td>1993</td>\n",
       "    </tr>\n",
       "    <tr>\n",
       "      <th>Andhra Pradesh</th>\n",
       "      <td>0</td>\n",
       "      <td>20345</td>\n",
       "      <td>21452</td>\n",
       "      <td>22399</td>\n",
       "      <td>22018</td>\n",
       "      <td>22517</td>\n",
       "      <td>24171</td>\n",
       "      <td>18561</td>\n",
       "      <td>21320</td>\n",
       "      <td>23160</td>\n",
       "      <td>...</td>\n",
       "      <td>2930</td>\n",
       "      <td>3175</td>\n",
       "      <td>2100</td>\n",
       "      <td>3042</td>\n",
       "      <td>3166</td>\n",
       "      <td>2982</td>\n",
       "      <td>3040</td>\n",
       "      <td>2925</td>\n",
       "      <td>2665</td>\n",
       "      <td>1578</td>\n",
       "    </tr>\n",
       "    <tr>\n",
       "      <th>Meghalaya</th>\n",
       "      <td>0</td>\n",
       "      <td>450</td>\n",
       "      <td>406</td>\n",
       "      <td>591</td>\n",
       "      <td>627</td>\n",
       "      <td>560</td>\n",
       "      <td>569</td>\n",
       "      <td>634</td>\n",
       "      <td>906</td>\n",
       "      <td>872</td>\n",
       "      <td>...</td>\n",
       "      <td>460</td>\n",
       "      <td>489</td>\n",
       "      <td>377</td>\n",
       "      <td>457</td>\n",
       "      <td>354</td>\n",
       "      <td>532</td>\n",
       "      <td>426</td>\n",
       "      <td>485</td>\n",
       "      <td>425</td>\n",
       "      <td>273</td>\n",
       "    </tr>\n",
       "    <tr>\n",
       "      <th>Tripura</th>\n",
       "      <td>0</td>\n",
       "      <td>466</td>\n",
       "      <td>416</td>\n",
       "      <td>480</td>\n",
       "      <td>552</td>\n",
       "      <td>449</td>\n",
       "      <td>761</td>\n",
       "      <td>335</td>\n",
       "      <td>746</td>\n",
       "      <td>879</td>\n",
       "      <td>...</td>\n",
       "      <td>394</td>\n",
       "      <td>428</td>\n",
       "      <td>226</td>\n",
       "      <td>474</td>\n",
       "      <td>461</td>\n",
       "      <td>407</td>\n",
       "      <td>531</td>\n",
       "      <td>411</td>\n",
       "      <td>518</td>\n",
       "      <td>270</td>\n",
       "    </tr>\n",
       "    <tr>\n",
       "      <th>Mizoram</th>\n",
       "      <td>0</td>\n",
       "      <td>172</td>\n",
       "      <td>240</td>\n",
       "      <td>141</td>\n",
       "      <td>201</td>\n",
       "      <td>122</td>\n",
       "      <td>180</td>\n",
       "      <td>150</td>\n",
       "      <td>239</td>\n",
       "      <td>184</td>\n",
       "      <td>...</td>\n",
       "      <td>233</td>\n",
       "      <td>243</td>\n",
       "      <td>88</td>\n",
       "      <td>520</td>\n",
       "      <td>301</td>\n",
       "      <td>548</td>\n",
       "      <td>311</td>\n",
       "      <td>537</td>\n",
       "      <td>442</td>\n",
       "      <td>190</td>\n",
       "    </tr>\n",
       "  </tbody>\n",
       "</table>\n",
       "<p>5 rows × 64 columns</p>\n",
       "</div>"
      ],
      "text/plain": [
       "states          2021-05-10  2021-05-11  2021-05-12  2021-05-13  2021-05-14  \\\n",
       "state                                                                        \n",
       "Odisha                   0        9793       10982       10649       12390   \n",
       "Andhra Pradesh           0       20345       21452       22399       22018   \n",
       "Meghalaya                0         450         406         591         627   \n",
       "Tripura                  0         466         416         480         552   \n",
       "Mizoram                  0         172         240         141         201   \n",
       "\n",
       "states          2021-05-15  2021-05-16  2021-05-17  2021-05-18  2021-05-19  \\\n",
       "state                                                                        \n",
       "Odisha               11805       11732       10757       10321       11099   \n",
       "Andhra Pradesh       22517       24171       18561       21320       23160   \n",
       "Meghalaya              560         569         634         906         872   \n",
       "Tripura                449         761         335         746         879   \n",
       "Mizoram                122         180         150         239         184   \n",
       "\n",
       "states          ...  2021-07-03  2021-07-04  2021-07-05  2021-07-06  \\\n",
       "state           ...                                                   \n",
       "Odisha          ...        2917        2870        2803        2487   \n",
       "Andhra Pradesh  ...        2930        3175        2100        3042   \n",
       "Meghalaya       ...         460         489         377         457   \n",
       "Tripura         ...         394         428         226         474   \n",
       "Mizoram         ...         233         243          88         520   \n",
       "\n",
       "states          2021-07-07  2021-07-08  2021-07-09  2021-07-10  2021-07-11  \\\n",
       "state                                                                        \n",
       "Odisha                2602        2542        2806        2334        2282   \n",
       "Andhra Pradesh        3166        2982        3040        2925        2665   \n",
       "Meghalaya              354         532         426         485         425   \n",
       "Tripura                461         407         531         411         518   \n",
       "Mizoram                301         548         311         537         442   \n",
       "\n",
       "states          2021-07-12  \n",
       "state                       \n",
       "Odisha                1993  \n",
       "Andhra Pradesh        1578  \n",
       "Meghalaya              273  \n",
       "Tripura                270  \n",
       "Mizoram                190  \n",
       "\n",
       "[5 rows x 64 columns]"
      ]
     },
     "execution_count": 18,
     "metadata": {},
     "output_type": "execute_result"
    }
   ],
   "source": [
    "#hide\n",
    "dft_ct_new_cases.head()"
   ]
  },
  {
   "cell_type": "code",
   "execution_count": 19,
   "id": "e7a3c1bd",
   "metadata": {
    "execution": {
     "iopub.execute_input": "2021-07-12T12:23:06.266784Z",
     "iopub.status.busy": "2021-07-12T12:23:06.261675Z",
     "iopub.status.idle": "2021-07-12T12:23:10.589248Z",
     "shell.execute_reply": "2021-07-12T12:23:10.589775Z"
    },
    "papermill": {
     "duration": 4.356754,
     "end_time": "2021-07-12T12:23:10.589921",
     "exception": false,
     "start_time": "2021-07-12T12:23:06.233167",
     "status": "completed"
    },
    "tags": []
   },
   "outputs": [
    {
     "data": {
      "image/png": "[encoded data removed]",
      "text/plain": [
       "<Figure size 1728x2880 with 11 Axes>"
      ]
     },
     "metadata": {
      "needs_background": "light"
     },
     "output_type": "display_data"
    }
   ],
   "source": [
    "#hide_input\n",
    "df = dft_ct_new_cases.copy()\n",
    "df.loc['Total'] = df.sum()\n",
    "n = 5\n",
    "ax = []\n",
    "fig = plt.figure(figsize = (24,40))\n",
    "gs = fig.add_gridspec(n+2, 5)\n",
    "# gs = fig.add_gridspec(2, 3)\n",
    "ax1 = fig.add_subplot(gs[0, :])\n",
    "ef = df.loc['Total'].rename_axis('date').reset_index()\n",
    "ef['date'] = ef['date'].astype('datetime64[ns]')\n",
    "ax1.bar(ef.date,ef.Total,alpha=0.3,color='#007acc')\n",
    "ax1.plot(ef.date,ef.Total , marker=\"o\", color='#007acc')\n",
    "ax1.xaxis.set_major_locator(mdates.WeekdayLocator())\n",
    "ax1.xaxis.set_major_formatter(mdates.DateFormatter('%b %d'))\n",
    "ax1.text(0.02, 0.5,'India daily case count', transform = ax1.transAxes, fontsize=25);\n",
    "ax1.spines['right'].set_visible(False)\n",
    "ax1.spines['top'].set_visible(False)\n",
    "\n",
    "ax2 = fig.add_subplot(gs[1,0])\n",
    "ef = df.loc['Maharashtra'].rename_axis('date').reset_index()\n",
    "ef['date'] = ef['date'].astype('datetime64[ns]')\n",
    "\n",
    "ax2.bar(ef.date, ef.Maharashtra,color = '#007acc',alpha=0.5)\n",
    "ax2.xaxis.set_major_locator(mdates.WeekdayLocator())\n",
    "ax2.xaxis.set_major_formatter(mdates.DateFormatter('%b %d'))\n",
    "ax2.set_xticks(ax2.get_xticks()[::3])\n",
    "maxyval = ef.Maharashtra.max()\n",
    "ax2.set_ylim([0,maxyval])\n",
    "ax2.text(0.4, 0.9,'Maharashtra', transform = ax2.transAxes, fontsize=20);\n",
    "ax2.spines['right'].set_visible(False)\n",
    "ax2.spines['top'].set_visible(False)\n",
    "\n",
    "\n",
    "ax3 = fig.add_subplot(gs[1,1])\n",
    "ef = df.loc['Tamil Nadu'].rename_axis('date').reset_index()\n",
    "ef['date'] = ef['date'].astype('datetime64[ns]')\n",
    "ax3.bar(ef.date, ef['Tamil Nadu'],color = '#007acc',alpha=0.5,)\n",
    "ax3.xaxis.set_major_locator(mdates.WeekdayLocator())\n",
    "ax3.xaxis.set_major_formatter(mdates.DateFormatter('%b %d'))\n",
    "ax3.set_xticks(ax3.get_xticks()[::3])\n",
    "ax3.text(0.05, 1,'Tamil Nadu', transform = ax3.transAxes, fontsize=20);\n",
    "ax3.spines['right'].set_visible(False)\n",
    "ax3.spines['top'].set_visible(False)\n",
    "\n",
    "ax5 = fig.add_subplot(gs[1,3])\n",
    "ef = df.loc['Telangana'].rename_axis('date').reset_index()\n",
    "ef['date'] = ef['date'].astype('datetime64[ns]')\n",
    "ax5.bar(ef.date, ef['Telangana'],color = '#007acc',alpha=0.5,)\n",
    "ax5.xaxis.set_major_locator(mdates.WeekdayLocator())\n",
    "ax5.xaxis.set_major_formatter(mdates.DateFormatter('%b %d'))\n",
    "ax5.set_xticks(ax5.get_xticks()[::3])\n",
    "ax5.text(0.05, 1,'Telangana', transform = ax5.transAxes, fontsize=20);\n",
    "ax5.spines['right'].set_visible(False)\n",
    "ax5.spines['top'].set_visible(False)\n",
    "\n",
    "ax6 = fig.add_subplot(gs[1,4])\n",
    "ef = df.loc['Andhra Pradesh'].rename_axis('date').reset_index()\n",
    "ef['date'] = ef['date'].astype('datetime64[ns]')\n",
    "ax6.bar(ef.date, ef['Andhra Pradesh'],color = '#007acc',alpha=0.5,)\n",
    "ax6.xaxis.set_major_locator(mdates.WeekdayLocator())\n",
    "ax6.xaxis.set_major_formatter(mdates.DateFormatter('%b %d'))\n",
    "ax6.set_xticks(ax6.get_xticks()[::3])\n",
    "ax6.text(0.05, 1,'Andhra Pradesh', transform = ax6.transAxes, fontsize=20);\n",
    "ax6.spines['right'].set_visible(False)\n",
    "ax6.spines['top'].set_visible(False)\n",
    "\n",
    "ax4 = fig.add_subplot(gs[1,2])\n",
    "ef = df.loc['Delhi'].rename_axis('date').reset_index()\n",
    "ef['date'] = ef['date'].astype('datetime64[ns]')\n",
    "ax4.bar(ef.date, ef.Delhi,color = '#007acc',alpha=0.5)\n",
    "ax4.set_xticks([])\n",
    "ax4.xaxis.set_major_locator(mdates.WeekdayLocator())\n",
    "ax4.xaxis.set_major_formatter(mdates.DateFormatter('%b %d'))\n",
    "ax4.set_xticks(ax4.get_xticks()[::3])\n",
    "ax4.spines['right'].set_visible(False)\n",
    "ax4.spines['top'].set_visible(False)\n",
    "\n",
    "ax4.text(0.05, 1,'Delhi', transform = ax4.transAxes, fontsize=20)\n",
    "\n",
    "for i in range(n):\n",
    "    \n",
    "    ax.append(fig.add_subplot(gs[i+2,:]))\n",
    "    ef = df.iloc[i+3].rename_axis('date').reset_index()\n",
    "    ef['date'] = ef['date'].astype('datetime64[ns]')\n",
    "    ax[i].bar(ef.date,ef.iloc[:,-1],color = '#007acc',alpha=0.3)\n",
    "    ax[i].plot(ef.date,ef.iloc[:,-1],marker='o',color='#007acc')\n",
    "    ax[i].text(0.02,0.5,f'{ef.columns.values[-1]}',transform = ax[i].transAxes, fontsize = 20);\n",
    "    ax[i].xaxis.set_major_locator(mdates.WeekdayLocator())\n",
    "    ax[i].xaxis.set_major_formatter(mdates.DateFormatter('%b %d'))\n",
    "    ax[i].spines['right'].set_visible(False)\n",
    "    ax[i].spines['top'].set_visible(False)\n",
    "    if i in [0,4]:\n",
    "        ax[i].set_ylim([0,30000])\n",
    "    elif i==1:\n",
    "        ax[i].set_ylim([0,60000])      \n",
    "    else:\n",
    "        ax[i].set_ylim([0,15000])\n",
    "    \n",
    "plt.tight_layout()\n"
   ]
  },
  {
   "cell_type": "code",
   "execution_count": 20,
   "id": "13fb755d",
   "metadata": {
    "execution": {
     "iopub.execute_input": "2021-07-12T12:23:10.653357Z",
     "iopub.status.busy": "2021-07-12T12:23:10.652740Z",
     "iopub.status.idle": "2021-07-12T12:23:10.657153Z",
     "shell.execute_reply": "2021-07-12T12:23:10.657599Z"
    },
    "papermill": {
     "duration": 0.041521,
     "end_time": "2021-07-12T12:23:10.657754",
     "exception": false,
     "start_time": "2021-07-12T12:23:10.616233",
     "status": "completed"
    },
    "tags": []
   },
   "outputs": [
    {
     "name": "stdout",
     "output_type": "stream",
     "text": [
      "                                   states    Cases  Deaths   PCases  PDeaths  Cases (+)  Deaths (+)  Fatality Rate\n",
      "                              Maharashtra  6157799  125878  6157799   125878          0           0           2.04\n",
      "                                   Kerala  3065336   14586  3065336    14586          0           0           0.48\n",
      "                                Karnataka  2871298   35835  2871298    35835          0           0           1.25\n",
      "                               Tamil Nadu  2518786   33418  2518786    33418          0           0           1.33\n",
      "                           Andhra Pradesh  1924421   13024  1922843    13002       1578          22           0.68\n",
      "                            Uttar Pradesh  1707350   22698  1707350    22698          0           0           1.33\n",
      "                              West Bengal  1512129   17916  1512129    17916          0           0           1.18\n",
      "                                    Delhi  1435083   25015  1435083    25015          0           0           1.74\n",
      "                             Chhattisgarh   997973   13478   997973    13478          0           0           1.35\n",
      "                                Rajasthan   953126    8945   953126     8945          0           0           0.94\n",
      "                                   Odisha   941745    4715   939752     4652       1993          63           0.50\n",
      "                                  Gujarat   824242   10073   824242    10073          0           0           1.22\n",
      "                           Madhya Pradesh   790175    9025   790175     9025          0           0           1.14\n",
      "                                  Haryana   769279    9550   769279     9550          0           0           1.24\n",
      "                                    Bihar   723283    9618   723283     9618          0           0           1.33\n",
      "                                Telangana   631683    3729   631683     3729          0           0           0.59\n",
      "                                   Punjab   597598   16186   597598    16186          0           0           2.71\n",
      "                                    Assam   533663    4828   533663     4828          0           0           0.90\n",
      "                                Jharkhand   346328    5119   346328     5119          0           0           1.48\n",
      "                              Uttarakhand   341179    7339   341179     7339          0           0           2.15\n",
      "                        Jammu and Kashmir   318693    4357   318693     4357          0           0           1.37\n",
      "                         Himachal Pradesh   203626    3475   203626     3475          0           0           1.71\n",
      "                                      Goa   168716    3097   168716     3097          0           0           1.84\n",
      "                               Puducherry   119057    1771   118976     1769         81           2           1.49\n",
      "                                  Manipur    77731    1272    77731     1272          0           0           1.64\n",
      "                                  Tripura    70746     712    70476      709        270           3           1.01\n",
      "                               Chandigarh    61831     809    61831      809          0           0           1.31\n",
      "                                Meghalaya    54853     913    54580      908        273           5           1.66\n",
      "                        Arunachal Pradesh    39817     189    39817      189          0           0           0.47\n",
      "                                 Nagaland    25976     507    25976      507          0           0           1.95\n",
      "                                  Mizoram    24183     110    23993      107        190           3           0.45\n",
      "                                   Sikkim    22397     317    22307      315         90           2           1.42\n",
      "                                   Ladakh    20195     206    20195      206          0           0           1.02\n",
      " Dadra and Nagar Haveli and Daman and Diu    10589       4    10589        4          0           0           0.04\n",
      "                              Lakshadweep    10013      49    10013       49          0           0           0.49\n",
      "              Andaman and Nicobar Islands     7492     129     7492      129          0           0           1.72\n"
     ]
    }
   ],
   "source": [
    "#hide_input\n",
    "print(df_table.to_string(index=False))"
   ]
  },
  {
   "cell_type": "code",
   "execution_count": null,
   "id": "b4832bdc",
   "metadata": {
    "papermill": {
     "duration": 0.025434,
     "end_time": "2021-07-12T12:23:10.712157",
     "exception": false,
     "start_time": "2021-07-12T12:23:10.686723",
     "status": "completed"
    },
    "tags": []
   },
   "outputs": [],
   "source": []
  },
  {
   "cell_type": "code",
   "execution_count": null,
   "id": "879ae52c",
   "metadata": {
    "papermill": {
     "duration": 0.026198,
     "end_time": "2021-07-12T12:23:10.765981",
     "exception": false,
     "start_time": "2021-07-12T12:23:10.739783",
     "status": "completed"
    },
    "tags": []
   },
   "outputs": [],
   "source": []
  }
 ],
 "metadata": {
  "kernelspec": {
   "display_name": "Python 3",
   "language": "python",
   "name": "python3"
  },
  "language_info": {
   "codemirror_mode": {
    "name": "ipython",
    "version": 3
   },
   "file_extension": ".py",
   "mimetype": "text/x-python",
   "name": "python",
   "nbconvert_exporter": "python",
   "pygments_lexer": "ipython3",
   "version": "3.6.13"
  },
  "papermill": {
   "default_parameters": {},
   "duration": 10.891561,
   "end_time": "2021-07-12T12:23:11.200293",
   "environment_variables": {},
   "exception": null,
   "input_path": "second_wave.ipynb",
   "output_path": "second_wave.ipynb",
   "parameters": {},
   "start_time": "2021-07-12T12:23:00.308732",
   "version": "2.3.3"
  }
 },
 "nbformat": 4,
 "nbformat_minor": 5
}